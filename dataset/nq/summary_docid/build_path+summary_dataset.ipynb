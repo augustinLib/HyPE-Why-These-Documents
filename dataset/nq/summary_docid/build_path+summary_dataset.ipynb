{
 "cells": [
  {
   "cell_type": "code",
   "execution_count": 1,
   "metadata": {},
   "outputs": [],
   "source": [
    "import pandas as pd\n",
    "import pickle"
   ]
  },
  {
   "cell_type": "code",
   "execution_count": 2,
   "metadata": {},
   "outputs": [],
   "source": [
    "original_train = pd.read_csv('../backbone_file/nq_train_with_path.tsv', sep='\\t')\n",
    "qg_train = pd.read_csv('../backbone_file/nq_qg_with_path.tsv', sep='\\t')\n",
    "indexing = pd.read_csv('../backbone_file/nq_document_with_path.tsv', sep='\\t')\n",
    "original_dev = pd.read_csv('../backbone_file/nq_valid.tsv', sep='\\t')"
   ]
  },
  {
   "cell_type": "code",
   "execution_count": null,
   "metadata": {},
   "outputs": [],
   "source": [
    "original_train"
   ]
  },
  {
   "cell_type": "code",
   "execution_count": null,
   "metadata": {},
   "outputs": [],
   "source": [
    "with open(\"./nq_title_summary_dict.pkl\", \"rb\") as f:\n",
    "    title_atomic_dict = pickle.load(f)\n",
    "\n",
    "title_atomic_dict"
   ]
  },
  {
   "cell_type": "code",
   "execution_count": 5,
   "metadata": {},
   "outputs": [],
   "source": [
    "original_train[\"summary\"] = original_train[\"title\"].apply(lambda x: title_atomic_dict[x])\n",
    "qg_train[\"summary\"] = qg_train[\"title\"].apply(lambda x: title_atomic_dict[x])\n",
    "indexing[\"summary\"] = indexing[\"title\"].apply(lambda x: title_atomic_dict[x])\n",
    "original_dev[\"summary\"] = original_dev[\"title\"].apply(lambda x: title_atomic_dict[x])"
   ]
  },
  {
   "cell_type": "code",
   "execution_count": 6,
   "metadata": {},
   "outputs": [],
   "source": [
    "original_train[\"docid\"] = \"[PATH]\" + original_train[\"path\"] + \"[DOC]\" + original_train[\"summary\"]\n",
    "original_train.drop(columns=[\"path\", \"summary\", \"title\"], inplace=True)\n",
    "\n",
    "qg_train[\"docid\"] = \"[PATH]\" + qg_train[\"path\"] + \"[DOC]\" + qg_train[\"summary\"]\n",
    "qg_train.drop(columns=[\"path\", \"summary\", \"title\"], inplace=True)\n",
    "\n",
    "indexing[\"docid\"] = \"[PATH]\" + indexing[\"path\"] + \"[DOC]\" + indexing[\"summary\"]\n",
    "indexing.drop(columns=[\"path\", \"summary\", \"title\"], inplace=True)"
   ]
  },
  {
   "cell_type": "code",
   "execution_count": null,
   "metadata": {},
   "outputs": [],
   "source": [
    "original_train"
   ]
  },
  {
   "cell_type": "code",
   "execution_count": null,
   "metadata": {},
   "outputs": [],
   "source": [
    "qg_train"
   ]
  },
  {
   "cell_type": "code",
   "execution_count": null,
   "metadata": {},
   "outputs": [],
   "source": [
    "indexing"
   ]
  },
  {
   "cell_type": "code",
   "execution_count": null,
   "metadata": {},
   "outputs": [],
   "source": [
    "original_dev[\"docid\"] = \"[DOC]\" + original_dev[\"summary\"]\n",
    "original_dev.drop(columns=[\"summary\", \"title\", \"doc_id\"], inplace=True)\n",
    "original_dev"
   ]
  },
  {
   "cell_type": "code",
   "execution_count": null,
   "metadata": {},
   "outputs": [],
   "source": []
  }
 ],
 "metadata": {
  "kernelspec": {
   "display_name": "Python 3",
   "language": "python",
   "name": "python3"
  },
  "language_info": {
   "codemirror_mode": {
    "name": "ipython",
    "version": 3
   },
   "file_extension": ".py",
   "mimetype": "text/x-python",
   "name": "python",
   "nbconvert_exporter": "python",
   "pygments_lexer": "ipython3",
   "version": "3.10.13"
  }
 },
 "nbformat": 4,
 "nbformat_minor": 2
}
