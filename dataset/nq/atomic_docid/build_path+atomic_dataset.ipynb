{
 "cells": [
  {
   "cell_type": "code",
   "execution_count": 16,
   "metadata": {},
   "outputs": [],
   "source": [
    "import pandas as pd\n",
    "import pickle"
   ]
  },
  {
   "cell_type": "code",
   "execution_count": 17,
   "metadata": {},
   "outputs": [],
   "source": [
    "original_train = pd.read_csv('../backbone_file/nq_train_with_path.tsv', sep='\\t')\n",
    "qg_train = pd.read_csv('../backbone_file/nq_qg_with_path.tsv', sep='\\t')\n",
    "indexing = pd.read_csv('../backbone_file/nq_document_with_path.tsv', sep='\\t')\n",
    "original_dev = pd.read_csv('../backbone_file/nq_valid.tsv', sep='\\t')"
   ]
  },
  {
   "cell_type": "code",
   "execution_count": null,
   "metadata": {},
   "outputs": [],
   "source": [
    "original_train"
   ]
  },
  {
   "cell_type": "code",
   "execution_count": null,
   "metadata": {},
   "outputs": [],
   "source": [
    "with open(\"./nq_title_atomic_docid_dict.pkl\", \"rb\") as f:\n",
    "    title_atomic_dict = pickle.load(f)\n",
    "\n",
    "title_atomic_dict"
   ]
  },
  {
   "cell_type": "code",
   "execution_count": 20,
   "metadata": {},
   "outputs": [],
   "source": [
    "original_train[\"atomic\"] = original_train[\"title\"].apply(lambda x: title_atomic_dict[x])\n",
    "qg_train[\"atomic\"] = qg_train[\"title\"].apply(lambda x: title_atomic_dict[x])\n",
    "indexing[\"atomic\"] = indexing[\"title\"].apply(lambda x: title_atomic_dict[x])\n",
    "original_dev[\"atomic\"] = original_dev[\"title\"].apply(lambda x: title_atomic_dict[x])"
   ]
  },
  {
   "cell_type": "code",
   "execution_count": 21,
   "metadata": {},
   "outputs": [],
   "source": [
    "original_train[\"docid\"] = \"[PATH]\" + original_train[\"path\"] + \"[DOC]\" + original_train[\"atomic\"]\n",
    "original_train.drop(columns=[\"path\", \"atomic\", \"title\"], inplace=True)\n",
    "\n",
    "qg_train[\"docid\"] = \"[PATH]\" + qg_train[\"path\"] + \"[DOC]\" + qg_train[\"atomic\"]\n",
    "qg_train.drop(columns=[\"path\", \"atomic\", \"title\"], inplace=True)\n",
    "\n",
    "indexing[\"docid\"] = \"[PATH]\" + indexing[\"path\"] + \"[DOC]\" + indexing[\"atomic\"]\n",
    "indexing.drop(columns=[\"path\", \"atomic\", \"title\"], inplace=True)"
   ]
  },
  {
   "cell_type": "code",
   "execution_count": null,
   "metadata": {},
   "outputs": [],
   "source": [
    "original_train"
   ]
  },
  {
   "cell_type": "code",
   "execution_count": null,
   "metadata": {},
   "outputs": [],
   "source": [
    "qg_train"
   ]
  },
  {
   "cell_type": "code",
   "execution_count": null,
   "metadata": {},
   "outputs": [],
   "source": [
    "indexing"
   ]
  },
  {
   "cell_type": "code",
   "execution_count": null,
   "metadata": {},
   "outputs": [],
   "source": [
    "original_dev[\"docid\"] = \"[DOC]\" + original_dev[\"atomic\"]\n",
    "original_dev.drop(columns=[\"atomic\", \"title\", \"doc_id\"], inplace=True)\n",
    "original_dev"
   ]
  },
  {
   "cell_type": "code",
   "execution_count": null,
   "metadata": {},
   "outputs": [],
   "source": []
  }
 ],
 "metadata": {
  "kernelspec": {
   "display_name": "Python 3",
   "language": "python",
   "name": "python3"
  },
  "language_info": {
   "codemirror_mode": {
    "name": "ipython",
    "version": 3
   },
   "file_extension": ".py",
   "mimetype": "text/x-python",
   "name": "python",
   "nbconvert_exporter": "python",
   "pygments_lexer": "ipython3",
   "version": "3.10.13"
  }
 },
 "nbformat": 4,
 "nbformat_minor": 2
}
